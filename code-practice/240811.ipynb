{
 "cells": [
  {
   "cell_type": "markdown",
   "metadata": {},
   "source": [
    "# AI 모델의 구조\n",
    "# 1. 모델의 구조 정의 : nn.Module이라는 torch에 있는 클래스를 상속\n",
    "# 2. 데이터 : torch라는 프레임워크에서 데이터를 다룰 때 -> \n",
    "(1) dataset :  __init__, len, __getitem__\n",
    "(2) dataloader : dataset을 실제로 모델에 순차적으로 넣을 때 사용하는 구조\n",
    "# 3. 하이퍼파라미터 정의\n",
    "learning rate, n_epoch, batch_size ... -> 어떤 하이퍼파라미터가 있는지 GPT\n",
    "# 4. traning loop\n",
    "모델이 실제로 학습하는 곳\n",
    "torch -> (1) train : 학습에 사용, gradient를 따로 저장해 놓을 것이다 (2) eval : 학습에 사용 x, grad 저장 x\n",
    "training loop는 dataloader에서 데이터를 batch 만큼 가져와서 모델에 넣고, output을 도출해서 정답값과의 loss를 계산하고, 이를 이용해서 gradient를 업데이트하는 과정\n",
    "# 5. test loop\n",
    "모델이 학습한 내용을 검증하는 곳\n",
    "dataloader에서 데이터를 가져와서 모델에 넣고 output을 보는 것까지만-> accuracy 등 metric을 본다."
   ]
  },
  {
   "cell_type": "code",
   "execution_count": null,
   "metadata": {},
   "outputs": [],
   "source": []
  }
 ],
 "metadata": {
  "kernelspec": {
   "display_name": "Python 3",
   "language": "python",
   "name": "python3"
  },
  "language_info": {
   "codemirror_mode": {
    "name": "ipython",
    "version": 3
   },
   "file_extension": ".py",
   "mimetype": "text/x-python",
   "name": "python",
   "nbconvert_exporter": "python",
   "pygments_lexer": "ipython3",
   "version": "3.11.9"
  }
 },
 "nbformat": 4,
 "nbformat_minor": 2
}
